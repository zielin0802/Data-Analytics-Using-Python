{
 "cells": [
  {
   "cell_type": "code",
   "execution_count": null,
   "metadata": {},
   "outputs": [],
   "source": [
    "'''\n",
    "#1 \n",
    "Given a string, write a program which will get the first and last two characters of the string and return them.\n",
    "If the string happens to be less than 2, return an empty string instead.\n",
    "Call this function front_two_back_two(input_string)\n",
    "'''\n",
    "def front_two_back_two(input_string):\n",
    "    return '' if len(input_string) < 2 else input_string[:2] + input_string[-2:]\n",
    "    \n",
    "print(front_two_back_two(\"Hello\"))\n",
    "print(front_two_back_two('a'))"
   ]
  },
  {
   "cell_type": "code",
   "execution_count": null,
   "metadata": {},
   "outputs": [],
   "source": [
    "\"\"\"\n",
    "# 2 Write a program that reads in a temperature in Kelvin from the keyboard and prints the equivalent temperatures in both Celsius and Fahrenheit. \n",
    "\"\"\"\n",
    "def kelvin_to_celsius(k):\n",
    "    return k - 273.15\n",
    "\n",
    "def kelvin_to_fahrenheit(k):\n",
    "    return kelvin_to_celsius(k) * 9.0 / 5.0 + 32.0\n",
    "    \n",
    "kelvin_input = float(input('Enter temperature in Kelvin: '))\n",
    "celsius = kelvin_to_celsius(kelvin_input)\n",
    "fahrenheit = kelvin_to_fahrenheit(kelvin_input)\n",
    "print(f'The temperature in Celsius is {celsius}')\n",
    "print(f'The temperature in Fehrenheit is {fahrenheit}')"
   ]
  },
  {
   "cell_type": "code",
   "execution_count": null,
   "metadata": {},
   "outputs": [],
   "source": [
    "\"\"\"\n",
    "# 3 Write a program that reads a 4-digit number from the keyboard and prints the first and last digits of the number.\n",
    "\"\"\"\n",
    "input_string = input('Enter number: ')\n",
    "first_number = int(input_string[0])\n",
    "last_number = int(input_string[3])\n",
    "print(f'The first number is {first_number}')\n",
    "print(f'The last number is {last_number}')"
   ]
  },
  {
   "cell_type": "code",
   "execution_count": null,
   "metadata": {},
   "outputs": [],
   "source": [
    "\"\"\"\n",
    "# 4 Given a python integer list, return a new list with the minimum value of the inputted list, the maximum value of the list, and the sum of the list.\n",
    "# Your function should be called min_max_sum()\n",
    "\"\"\"\n",
    "def min_max_sum(input_list):\n",
    "    return [min(input_list), max(input_list), sum(input_list)]\n",
    "    \n",
    "min_max_sum([1, 2, 3])"
   ]
  },
  {
   "cell_type": "code",
   "execution_count": null,
   "metadata": {},
   "outputs": [],
   "source": [
    "\"\"\"\n",
    "#5 Write a Python program def print_square()to print a dictionary where the keys are numbers between 1 and 15 (both included) and the values are squares of keys.\n",
    "\"\"\"\n",
    "def print_square():\n",
    "    squares_map = {base: base * base for base in range(1, 16)}\n",
    "    print(squares_map)\n",
    "\n",
    "print_square()"
   ]
  }
 ],
 "metadata": {
  "interpreter": {
   "hash": "14c7b9c5d6b014c91993ebf435fbb297b5b7a92b0b3197c136e042d974a1773a"
  },
  "kernelspec": {
   "display_name": "Python 3.7.6 64-bit ('3.7.6': pyenv)",
   "name": "python3"
  },
  "language_info": {
   "codemirror_mode": {
    "name": "ipython",
    "version": 3
   },
   "file_extension": ".py",
   "mimetype": "text/x-python",
   "name": "python",
   "nbconvert_exporter": "python",
   "pygments_lexer": "ipython3",
   "version": "3.6.10"
  },
  "orig_nbformat": 4
 },
 "nbformat": 4,
 "nbformat_minor": 2
}