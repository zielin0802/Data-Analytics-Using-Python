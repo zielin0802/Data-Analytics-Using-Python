{
 "cells": [
  {
   "cell_type": "code",
   "execution_count": null,
   "metadata": {},
   "outputs": [],
   "source": [
    "import numpy as np\n",
    "import pandas as pd"
   ]
  },
  {
   "cell_type": "code",
   "execution_count": null,
   "metadata": {},
   "outputs": [],
   "source": [
    "# Store the books.csv file in a pandas dataframe.\n",
    "books = pd.read_csv('books.csv')"
   ]
  },
  {
   "cell_type": "code",
   "execution_count": null,
   "metadata": {},
   "outputs": [],
   "source": [
    "# How many books are there in the dataframe?\n",
    "book_count = len(books.index)\n",
    "print(f'There are {book_count} books in the DataFrame.')"
   ]
  },
  {
   "cell_type": "code",
   "execution_count": null,
   "metadata": {},
   "outputs": [],
   "source": [
    "# Print the books by any two publishers within the list provided.\n",
    "publisher_list = list(books['publisher'].unique())\n",
    "random_publishers = np.random.choice(publisher_list, size=2)\n",
    "random_books = (\n",
    "    books[books['publisher'].isin(random_publishers)]\n",
    "    .groupby('publisher')\n",
    "    .sample(n=1)\n",
    ")\n",
    "random_books"
   ]
  },
  {
   "cell_type": "code",
   "execution_count": null,
   "metadata": {},
   "outputs": [],
   "source": [
    "# Print the row with the maximum number of ratings.\n",
    "books.nlargest(1, 'ratings_count')"
   ]
  },
  {
   "cell_type": "code",
   "execution_count": null,
   "metadata": {},
   "outputs": [],
   "source": [
    "# Print any 5 books that have a rating greater than 3.\n",
    "books[books['average_rating'] > 3].sample(n=5)"
   ]
  }
 ],
 "metadata": {
  "interpreter": {
   "hash": "14c7b9c5d6b014c91993ebf435fbb297b5b7a92b0b3197c136e042d974a1773a"
  },
  "kernelspec": {
   "display_name": "Python 3.7.6 64-bit ('3.7.6': pyenv)",
   "name": "python3"
  },
  "language_info": {
   "name": "python",
   "version": ""
  },
  "orig_nbformat": 4
 },
 "nbformat": 4,
 "nbformat_minor": 2
}