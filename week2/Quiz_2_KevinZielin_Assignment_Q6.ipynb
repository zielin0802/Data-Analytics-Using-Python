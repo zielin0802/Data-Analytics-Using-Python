{
 "cells": [
  {
   "cell_type": "code",
   "execution_count": 4,
   "metadata": {},
   "outputs": [
    {
     "data": {
      "text/plain": [
       "34"
      ]
     },
     "execution_count": 4,
     "metadata": {},
     "output_type": "execute_result"
    }
   ],
   "source": [
    "\"\"\"\n",
    "Question 6:\n",
    "\n",
    " # Write a Python function that takes an integer n, and returns the number in the fibonacci sequence.  \n",
    " # The number returned should be what that number is in the sequence. \n",
    " # Call the function fib(n)\n",
    "\n",
    "Input: 9\n",
    "Output:  34\n",
    "\"\"\"\n",
    "\n",
    "def fib(n):\n",
    "    if n < 0:\n",
    "        return 'Undefined'\n",
    "    elif n == 0:\n",
    "        return 0\n",
    "    elif n in (1, 2):\n",
    "        return 1\n",
    "    else:\n",
    "        return fib(n - 1) + fib(n - 2)\n",
    "\n",
    "fib(9)"
   ]
  }
 ],
 "metadata": {
  "interpreter": {
   "hash": "14c7b9c5d6b014c91993ebf435fbb297b5b7a92b0b3197c136e042d974a1773a"
  },
  "kernelspec": {
   "display_name": "Python 3.7.6 64-bit ('3.7.6': pyenv)",
   "name": "python3"
  },
  "language_info": {
   "name": "python",
   "version": ""
  },
  "orig_nbformat": 4
 },
 "nbformat": 4,
 "nbformat_minor": 2
}