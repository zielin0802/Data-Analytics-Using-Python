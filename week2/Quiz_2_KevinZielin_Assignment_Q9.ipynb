{
 "cells": [
  {
   "cell_type": "code",
   "execution_count": null,
   "metadata": {},
   "outputs": [],
   "source": [
    "\"\"\"\n",
    "Question 9\n",
    "\n",
    "# Compute the sum of all elements (The elements in the Tuple will only be Integers) of each Tuple stored inside a list of Tuples.  \n",
    "# The return value of this function is a list of the sums of all Tuples.  \n",
    "# Name your program sum_tuples(my_tuple). Please consider edge cases (if you are passed an empty Tuple, consider it a 0 for the sum).\n",
    "\n",
    "Examples:\n",
    "Input: [(1, 2, 6), (2, 3, -6), (3, 4), (2, 2, 2, 2)], \n",
    "Output: [9, -1, 7, 8]\n",
    "\n",
    "Input: [(), (1, 2), (2, 3), (3, 4)], \n",
    "Output: [0, 3, 5, 7]\n",
    "\"\"\"\n",
    "\n",
    "def sum_tuples(my_tuple):\n",
    "    return [sum(t) for t in my_tuple]\n",
    "\n",
    "print(sum_tuples([(1, 2, 6), (2, 3, -6), (3, 4), (2, 2, 2, 2)]))\n",
    "print(sum_tuples([(), (1, 2), (2, 3), (3, 4)]))"
   ]
  }
 ],
 "metadata": {
  "interpreter": {
   "hash": "14c7b9c5d6b014c91993ebf435fbb297b5b7a92b0b3197c136e042d974a1773a"
  },
  "kernelspec": {
   "display_name": "Python 3.7.6 64-bit ('3.7.6': pyenv)",
   "name": "python3"
  },
  "language_info": {
   "name": "python",
   "version": ""
  },
  "orig_nbformat": 4
 },
 "nbformat": 4,
 "nbformat_minor": 2
}