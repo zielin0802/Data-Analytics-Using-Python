{
 "cells": [
  {
   "cell_type": "code",
   "execution_count": 32,
   "metadata": {},
   "outputs": [
    {
     "data": {
      "text/plain": [
       "'10'"
      ]
     },
     "execution_count": 32,
     "metadata": {},
     "output_type": "execute_result"
    }
   ],
   "source": [
    "\"\"\"\n",
    "Question 10\n",
    "\n",
    "# Use recursion to write a function to_binary_recursion(n) that takes a positive integer n (in decimal) and returns its binary representation as a string\n",
    "Input: positive integer in decimal Output: a string\n",
    "\n",
    "Eg: Input: 2 Output: “10” \n",
    "\"\"\"\n",
    "def to_binary_recursion(n):\n",
    "    if n == 0:\n",
    "        return \"0\"\n",
    "\n",
    "    q = int(to_binary_recursion(n // 2))\n",
    "    remainder = n % 2\n",
    "\n",
    "    return str(remainder + 10 * q)\n",
    "    \n",
    "\n",
    "to_binary_recursion(2)"
   ]
  }
 ],
 "metadata": {
  "interpreter": {
   "hash": "14c7b9c5d6b014c91993ebf435fbb297b5b7a92b0b3197c136e042d974a1773a"
  },
  "kernelspec": {
   "display_name": "Python 3.7.6 64-bit ('3.7.6': pyenv)",
   "name": "python3"
  },
  "language_info": {
   "name": "python",
   "version": ""
  },
  "orig_nbformat": 4
 },
 "nbformat": 4,
 "nbformat_minor": 2
}