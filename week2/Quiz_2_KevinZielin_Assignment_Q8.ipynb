{
 "cells": [
  {
   "cell_type": "code",
   "execution_count": null,
   "metadata": {},
   "outputs": [],
   "source": [
    "\"\"\"\n",
    "Question 8\n",
    "\n",
    "# Input two sets A, B and print if the set A belongs to set B.  Please call this function set_operation\n",
    "Input: {1,2} {1, 2, 3}\n",
    "Output: yes\n",
    "\n",
    "Input: {1, 3, 4, 5} {2, 4, 6, 8}\n",
    "Output: no\n",
    "\"\"\"\n",
    "\n",
    "def set_operation(A, B):\n",
    "    return 'yes' if A.issubset(B) else 'no'\n",
    "\n",
    "print(set_operation({1, 2}, {1, 2, 3}))\n",
    "print(set_operation({1, 3, 4, 5}, {2, 4, 6, 8}))"
   ]
  }
 ],
 "metadata": {
  "interpreter": {
   "hash": "14c7b9c5d6b014c91993ebf435fbb297b5b7a92b0b3197c136e042d974a1773a"
  },
  "kernelspec": {
   "display_name": "Python 3.7.6 64-bit ('3.7.6': pyenv)",
   "name": "python3"
  },
  "language_info": {
   "name": "python",
   "version": ""
  },
  "orig_nbformat": 4
 },
 "nbformat": 4,
 "nbformat_minor": 2
}